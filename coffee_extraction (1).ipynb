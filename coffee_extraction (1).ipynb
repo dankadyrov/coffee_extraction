{
  "cells": [
    {
      "cell_type": "markdown",
      "id": "ab9a717a",
      "metadata": {
        "id": "ab9a717a"
      },
      "source": [
        "# Моделирование капилярных эффектов и эффектов диффузии во время экстракции кофе"
      ]
    },
    {
      "cell_type": "markdown",
      "id": "59ee2856",
      "metadata": {
        "id": "59ee2856"
      },
      "source": [
        "Процесс экстракции кофе интересен по многим причинам.\n",
        "\n",
        "Так например, во время данного процесса кофейная частица набухает из-за того, что в ее порах задерживается вода, между молекулами кофе и воды происходит диффузия, вследствие которой из кофе \"вымывается\" кофеин, масло и другие вещества.\n",
        "\n",
        "Диффузия влечет за собой важную метрику кофейного напитка - TDS (Total Dissolved Solids) - это % растворенных в напитке веществ от его общего веса."
      ]
    },
    {
      "cell_type": "markdown",
      "id": "84a01a6f",
      "metadata": {
        "id": "84a01a6f"
      },
      "source": [
        "## Smoothed particle hydrodynamics"
      ]
    },
    {
      "cell_type": "markdown",
      "id": "8bb8041b",
      "metadata": {
        "id": "8bb8041b"
      },
      "source": [
        "Для моделирования движения жидкости через кофе был использован метод сглаженной гидродинамики частиц.\n",
        "\n",
        "Сила между частица представляет собой суперпозицю трех сил: сила давления между частицами, сила вязкого трения и сила поверхностного натяжения.\n",
        "\n",
        "$$\n",
        "F = F^{pressure} + F^{viscosity} + F^{tension}\n",
        "$$\n",
        "\n",
        "\n",
        "Каждая из этих силы имеет свое ядро, то есть зону действия некоторого радиуса со своим характером взаимодействия внутри."
      ]
    },
    {
      "cell_type": "markdown",
      "id": "bbb3c52a",
      "metadata": {
        "id": "bbb3c52a"
      },
      "source": [
        "Так, например сила давления записывается ледующим образом\n",
        "\n",
        "$$\n",
        "F^{pressure}_{i} = - \\nabla p(r_{i})= -\\sum_{j} m_j(\\frac{p_i + p_j}{2\\rho_{i}})\\nabla W(r_i - r_j, h)\n",
        "$$\n",
        "\n",
        "Сила вязкого трения\n",
        "\n",
        "$$\n",
        "F^{viscosity}_{i} = \\eta \\sum_{j} m_j(\\frac{\\bar{v_i} - \\bar{v_j}}{\\rho_{j}})\\nabla^2 W(r_i - r_j, h)\n",
        "$$\n",
        "\n",
        "\n",
        "Сила поверхностного натяжения\n",
        "\n",
        "$$\n",
        "F^{tension}_{i} = -\\sigma \\nabla^2 c_s \\frac{\\textbf n}{|\\textbf n|},\\: где  \\: \\textbf n = \\nabla c_s\n",
        "$$\n",
        "\n",
        "В этой формуле $c_s = \\sum{j} \\frac{m_j}{\\rho_j}W_{poly}(r_i - r_j, h)$."
      ]
    },
    {
      "cell_type": "markdown",
      "id": "dbb224e3",
      "metadata": {
        "id": "dbb224e3"
      },
      "source": [
        "В силе поверхностного натяжения используется ядро $ poly6 $, имеющее следующий вид\n",
        "\n",
        "\\begin{equation*}\n",
        "W_{poly6}(r, h) =  \\frac{315}{64\\pi h^9}\n",
        " \\begin{cases}\n",
        "   (h^2 - r^2)^3 &\\text{0 < r < h}\\\\\n",
        "   0 &\\text{Иначе}\n",
        " \\end{cases}\n",
        "\\end{equation*}"
      ]
    },
    {
      "cell_type": "markdown",
      "id": "4265368d",
      "metadata": {
        "id": "4265368d"
      },
      "source": [
        "Ядро для сил вязкого трения и давления было взято [отсюда](https://www.researchgate.net/publication/359740383_Modeling_swelling_effects_during_coffee_extraction_with_smoothed_particle_hydrodynamics) и имеет следующий вид\n",
        "\n",
        "\\begin{equation*}\n",
        "W(r, h) =  \\frac{7}{478\\pi h^2}\n",
        " \\begin{cases}\n",
        "   (3 - q)^5 - 6(2 - q)^5 + 15 (1 - q) ^ 5 &\\text{0 $\\leqslant$ q < 1}\\\\\n",
        "   (3 - q)^5 - 6(2 - q)^5 &\\text{1 $\\leqslant$ q < 2}\\\\\n",
        "   (3 - q)^5 &\\text{2 $\\leqslant$ q < 3}\\\\\n",
        "   0 &\\text{Иначе}\n",
        " \\end{cases}\n",
        "\\end{equation*}\n",
        "\n",
        "\n",
        "где $ q = \\frac{r}{h} $"
      ]
    },
    {
      "cell_type": "markdown",
      "id": "a4718951",
      "metadata": {
        "id": "a4718951"
      },
      "source": [
        "## Диффузия"
      ]
    },
    {
      "cell_type": "markdown",
      "id": "c06672d3",
      "metadata": {
        "id": "c06672d3"
      },
      "source": [
        "Диффузия веществ описывается законом Фика. Вещества переносятся между чаcтицами вода-вода и между частица вода-кофе. Перенос вещества кофе-кофе не был рассматрен в данной модели, так как считался пренебрежимо малым. Обмен веществом между частицами кофе может осуществлятся через воду, то есть идёт \"вымывание\" веществ из одной частицы, а дальше \"набухание\" другой.\n",
        "\n",
        "Первоначальная концентрация веществ в кофейных частицах задавалась как $ c $, в воде же концентрация этих же веществ задвалась в начальный момент времени 0.\n"
      ]
    },
    {
      "cell_type": "markdown",
      "source": [
        "Передача вещества описывалась законом Фика:\n",
        "\n",
        "$$\n",
        "j = -D \\frac{dn}{dx}\n",
        "$$\n",
        "\n",
        "В дискретном виде:\n",
        "\n",
        "$$\n",
        "\\Delta с_{12} = - \\frac{jSt}{V n_0} = - \\frac{3}{2} \\frac{D (c_1 - c_2) \\Delta t}{diameter * distance}\n",
        "$$\n",
        "\n",
        "Где $c_1, c_2$ - концентрации веществ в двух взаимодействующих молекулах, $diameter$ и $distance$ - характерный размер молекулы и расстояние между ними.\n",
        "Пересчёт проводился каждую итерацию."
      ],
      "metadata": {
        "id": "p5mchLducq1-"
      },
      "id": "p5mchLducq1-"
    },
    {
      "cell_type": "code",
      "execution_count": null,
      "id": "9c3c6f08",
      "metadata": {
        "id": "9c3c6f08"
      },
      "outputs": [],
      "source": []
    },
    {
      "cell_type": "markdown",
      "id": "a0e812e8",
      "metadata": {
        "id": "a0e812e8"
      },
      "source": []
    },
    {
      "cell_type": "code",
      "execution_count": null,
      "id": "60c8b8d2",
      "metadata": {
        "id": "60c8b8d2"
      },
      "outputs": [],
      "source": []
    },
    {
      "cell_type": "code",
      "execution_count": null,
      "id": "587f5e1f",
      "metadata": {
        "id": "587f5e1f"
      },
      "outputs": [],
      "source": []
    },
    {
      "cell_type": "code",
      "execution_count": null,
      "id": "4523e4d1",
      "metadata": {
        "id": "4523e4d1"
      },
      "outputs": [],
      "source": []
    }
  ],
  "metadata": {
    "kernelspec": {
      "display_name": "Python 3 (ipykernel)",
      "language": "python",
      "name": "python3"
    },
    "language_info": {
      "codemirror_mode": {
        "name": "ipython",
        "version": 3
      },
      "file_extension": ".py",
      "mimetype": "text/x-python",
      "name": "python",
      "nbconvert_exporter": "python",
      "pygments_lexer": "ipython3",
      "version": "3.11.5"
    },
    "colab": {
      "provenance": []
    }
  },
  "nbformat": 4,
  "nbformat_minor": 5
}