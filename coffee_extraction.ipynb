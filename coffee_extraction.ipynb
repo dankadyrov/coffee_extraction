{
 "cells": [
  {
   "cell_type": "markdown",
   "id": "ab9a717a",
   "metadata": {
    "id": "ab9a717a"
   },
   "source": [
    "# Моделирование капилярных эффектов и эффектов диффузии во время экстракции кофе"
   ]
  },
  {
   "cell_type": "markdown",
   "id": "59ee2856",
   "metadata": {
    "id": "59ee2856"
   },
   "source": [
    "Процесс экстракции кофе интересен по многим причинам.\n",
    "\n",
    "Так например, во время данного процесса кофейная частица набухает из-за того, что в ее порах задерживается вода, между молекулами кофе и воды происходит диффузия, вследствие которой из кофе \"вымывается\" кофеин, масло и другие вещества.\n",
    "\n",
    "Диффузия влечет за собой важную метрику кофейного напитка - TDS (Total Dissolved Solids) - это % растворенных в напитке веществ от его общего веса."
   ]
  },
  {
   "cell_type": "markdown",
   "id": "84a01a6f",
   "metadata": {
    "id": "84a01a6f"
   },
   "source": [
    "## Smoothed particle hydrodynamics"
   ]
  },
  {
   "cell_type": "markdown",
   "id": "8bb8041b",
   "metadata": {
    "id": "8bb8041b"
   },
   "source": [
    "Для моделирования движения жидкости через кофе был использован метод сглаженной гидродинамики частиц, который чаще всего использует для моделирования жидкости в наши дни.\n",
    "\n",
    "Сила между частица представляет собой суперпозицю трех сил: сила давления между частицами, сила вязкого трения и сила поверхностного натяжения.\n",
    "\n",
    "$$\n",
    "F = F^{pressure} + F^{viscosity} + F^{tension}\n",
    "$$\n",
    "\n",
    "\n",
    "Так как частицы сильно удаленные от данной не вносят сильного вклада в общую силу, действующую на чатицу, то мы их просто не рассматриваем, отсюда для каждой частицы и для каждой силы есть свое ядро, описывающее определнную силу.\n",
    "\n",
    "Ядро - это просто функция $ W(r - r_i, h) $, для которой выполнено $ \\int W(r - r_i, h) \\,dr = 1$."
   ]
  },
  {
   "cell_type": "markdown",
   "id": "bbb3c52a",
   "metadata": {
    "id": "bbb3c52a"
   },
   "source": [
    "Так, например сила давления записывается ледующим образом\n",
    "\n",
    "$$\n",
    "F^{pressure}_{i} = - \\nabla p(r_{i})= -\\sum_{j} m_j(\\frac{p_i + p_j}{2\\rho_{i}})\\nabla W(r_i - r_j, h)\n",
    "$$\n",
    "\n",
    "Сила вязкого трения\n",
    "\n",
    "$$\n",
    "F^{viscosity}_{i} = \\eta \\sum_{j} m_j(\\frac{\\bar{v_i} - \\bar{v_j}}{\\rho_{j}})\\nabla^2 W(r_i - r_j, h)\n",
    "$$\n",
    "\n",
    "\n",
    "Сила поверхностного натяжения\n",
    "\n",
    "$$\n",
    "F^{tension}_{i} = -\\sigma \\nabla^2 c_s \\frac{\\textbf n}{|\\textbf n|},\\: где  \\: \\textbf n = \\nabla c_s\n",
    "$$\n",
    "\n",
    "В этой формуле $c_s = \\sum{j} \\frac{m_j}{\\rho_j}W_{poly}(r_i - r_j, h)$."
   ]
  },
  {
   "cell_type": "markdown",
   "id": "dbb224e3",
   "metadata": {
    "id": "dbb224e3"
   },
   "source": [
    "В силе поверхностного натяжения используется ядро $ poly6 $, имеющее следующий вид\n",
    "\n",
    "\\begin{equation*}\n",
    "W_{poly6}(r, h) =  \\frac{315}{64\\pi h^9}\n",
    " \\begin{cases}\n",
    "   (h^2 - r^2)^3 & \\: \\:\\text{0 < r < h}\\\\\n",
    "   0 &\\text{Иначе}\n",
    " \\end{cases}\n",
    "\\end{equation*}"
   ]
  },
  {
   "cell_type": "markdown",
   "source": [
    "Так выглядит ядро poly6 и ядро первый и второй градиенты."
   ],
   "metadata": {
    "collapsed": false
   },
   "id": "e0dad8abdfb55157"
  },
  {
   "cell_type": "markdown",
   "source": [
    "![](images/poly6.png)"
   ],
   "metadata": {
    "collapsed": false
   },
   "id": "8c4879a2439594b8"
  },
  {
   "cell_type": "markdown",
   "id": "4265368d",
   "metadata": {
    "id": "4265368d"
   },
   "source": [
    "Ядро для сил вязкого трения и давления было взято [отсюда](https://www.researchgate.net/publication/359740383_Modeling_swelling_effects_during_coffee_extraction_with_smoothed_particle_hydrodynamics) и имеет следующий вид\n",
    "\n",
    "\\begin{equation*}\n",
    "W(r, h) =  \\frac{7}{478\\pi h^2}\n",
    " \\begin{cases}\n",
    "   (3 - q)^5 - 6(2 - q)^5 + 15 (1 - q) ^ 5 &\\:\\text{0 $\\leqslant$ q < 1}\\\\\n",
    "   (3 - q)^5 - 6(2 - q)^5 &\\text{1 $\\leqslant$ q < 2}\\\\\n",
    "   (3 - q)^5 &\\text{2 $\\leqslant$ q < 3}\\\\\n",
    "   0 &\\text{Иначе}\n",
    " \\end{cases}\n",
    "\\end{equation*}\n",
    "\n",
    "\n",
    "где $ q = \\frac{r}{h} $"
   ]
  },
  {
   "cell_type": "markdown",
   "id": "a4718951",
   "metadata": {
    "id": "a4718951"
   },
   "source": [
    "## Диффузия"
   ]
  },
  {
   "cell_type": "markdown",
   "source": [
    "Диффузия веществ описывается законом Фика. Вещества переносятся между чаcтицами вода-вода и между частица вода-кофе. Перенос вещества кофе-кофе не был рассматрен в данной модели, так как считался пренебрежимо малым. Обмен веществом между частицами кофе может осуществлятся через воду, то есть идёт \"вымывание\" веществ из одной частицы, а дальше \"набухание\" другой.\n",
    "\n",
    "Первоначальная концентрация веществ в кофейных частицах задавалась как $ c $, в воде же концентрация этих же веществ задвалась в начальный момент времени 0.\n"
   ],
   "metadata": {
    "collapsed": false,
    "id": "f761517c080f4391"
   },
   "id": "f761517c080f4391"
  },
  {
   "cell_type": "markdown",
   "id": "c06672d3",
   "metadata": {
    "id": "c06672d3"
   },
   "source": [
    "Передача вещества описывалась законом Фика:\n",
    "\n",
    "$$\n",
    "j = -D \\frac{dn}{dx}\n",
    "$$\n",
    "\n",
    "В дискретном виде:\n",
    "\n",
    "$$\n",
    "\\Delta с_{12} = - \\frac{jSt}{V n_0} = - \\frac{3}{2} \\frac{D (c_1 - c_2) \\Delta t}{diameter * distance}\n",
    "$$\n",
    "\n",
    "Где $c_1, c_2$ - концентрации веществ в двух взаимодействующих молекулах, $diameter$ и $distance$ - характерный размер молекулы и расстояние между ними.\n",
    "Пересчёт проводился каждую итерацию."
   ]
  },
  {
   "cell_type": "markdown",
   "source": [
    "Также можно рассмотреть зависимость диффузии веществ в воде от температуры, приняв зависимость коэффициента диффузии от корня температуры, как для диффузии на стационарном фоне.\n",
    "\n",
    "$$\n",
    "D \\sim \\sqrt T\n",
    "$$"
   ],
   "metadata": {
    "id": "qYK4PrvQXd_F"
   },
   "id": "qYK4PrvQXd_F"
  },
  {
   "cell_type": "markdown",
   "source": [
    "## Визуализация"
   ],
   "metadata": {
    "collapsed": false,
    "id": "ccaff3158616b351"
   },
   "id": "ccaff3158616b351"
  },
  {
   "cell_type": "markdown",
   "id": "a0e812e8",
   "metadata": {
    "id": "a0e812e8"
   },
   "source": [
    "Можно моделировать разное количество кофеных частиц, с разными коэффициентами диффузии, с разными радиусами и тд."
   ]
  },
  {
   "cell_type": "markdown",
   "source": [
    "Для наглядности эффекта диффузии частицы воды и кофе имеют свой собсвенный цвет в зависимости от концентрации веществ в них."
   ],
   "metadata": {
    "collapsed": false,
    "id": "4e8060025ee5ca57"
   },
   "id": "4e8060025ee5ca57"
  },
  {
   "cell_type": "markdown",
   "source": [
    "Так, например выглядит модель для 3 частиц кофе"
   ],
   "metadata": {
    "collapsed": false,
    "id": "ef7680c4b108d5dd"
   },
   "id": "ef7680c4b108d5dd"
  },
  {
   "cell_type": "markdown",
   "source": [
    "![](images/3_grains.gif)"
   ],
   "metadata": {
    "collapsed": false,
    "id": "3a308de23e16bdf3"
   },
   "id": "3a308de23e16bdf3"
  },
  {
   "cell_type": "markdown",
   "source": [
    "При этом можно следить за средней концентрацией веществ в жидкости"
   ],
   "metadata": {
    "collapsed": false,
    "id": "14bb667890116042"
   },
   "id": "14bb667890116042"
  },
  {
   "cell_type": "markdown",
   "source": [
    "![](images/3_grains_conc.png)"
   ],
   "metadata": {
    "collapsed": false,
    "id": "10b1e7648d7e76fd"
   },
   "id": "10b1e7648d7e76fd"
  },
  {
   "cell_type": "markdown",
   "source": [
    "Результаты для одной чатицы кофе"
   ],
   "metadata": {
    "collapsed": false,
    "id": "25827828041d59ff"
   },
   "id": "25827828041d59ff"
  },
  {
   "cell_type": "markdown",
   "source": [
    "![](images/single_grain.gif)"
   ],
   "metadata": {
    "collapsed": false,
    "id": "1b773ce692ea5051"
   },
   "id": "1b773ce692ea5051"
  },
  {
   "cell_type": "markdown",
   "source": [
    "![](images/single_grain_conc.png)"
   ],
   "metadata": {
    "collapsed": false,
    "id": "befc7fb0d0d44bf2"
   },
   "id": "befc7fb0d0d44bf2"
  },
  {
   "cell_type": "markdown",
   "source": [
    "### Зависимость от температуры"
   ],
   "metadata": {
    "collapsed": false
   },
   "id": "36059b94f87e47d7"
  },
  {
   "cell_type": "markdown",
   "source": [
    "Кофе, как правило завваривают с помощью кипятка (либо очень долгое время, если того требует метод заваривания). Это связано так раз-таки с тем, что при увеличении температуры концентрация \"кофейных веществ\" в готовом напитке увеличивается.\n",
    "\n",
    "Это иллюстрирует график ниже"
   ],
   "metadata": {
    "collapsed": false
   },
   "id": "ed0b84f26c2c4b87"
  },
  {
   "cell_type": "markdown",
   "source": [
    "![](results/temperature_dependency.png)"
   ],
   "metadata": {
    "collapsed": false,
    "id": "6d3c2a352d76ddd2"
   },
   "id": "6d3c2a352d76ddd2"
  },
  {
   "cell_type": "markdown",
   "source": [
    "## Источники"
   ],
   "metadata": {
    "collapsed": false,
    "id": "dc42a28400819cf8"
   },
   "id": "dc42a28400819cf8"
  },
  {
   "cell_type": "markdown",
   "source": [
    "https://www.researchgate.net/publication/359740383\n",
    "\n",
    "https://www.diva-portal.org/smash/get/diva2:573583/FULLTEXT01.pdf\n",
    "\n",
    "https://lucasschuermann.com/writing/particle-based-fluid-simulation\n",
    "\n"
   ],
   "metadata": {
    "collapsed": false,
    "id": "6b32231bd04625f0"
   },
   "id": "6b32231bd04625f0"
  }
 ],
 "metadata": {
  "kernelspec": {
   "display_name": "Python 3 (ipykernel)",
   "language": "python",
   "name": "python3"
  },
  "language_info": {
   "codemirror_mode": {
    "name": "ipython",
    "version": 3
   },
   "file_extension": ".py",
   "mimetype": "text/x-python",
   "name": "python",
   "nbconvert_exporter": "python",
   "pygments_lexer": "ipython3",
   "version": "3.11.5"
  },
  "colab": {
   "provenance": []
  }
 },
 "nbformat": 4,
 "nbformat_minor": 5
}
